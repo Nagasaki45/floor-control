{
 "cells": [
  {
   "cell_type": "markdown",
   "metadata": {},
   "source": [
    "# Analysis for the floor control detection (FCD) model and competitor models\n",
    "\n",
    "This notebook includes analyses the predictions of the FCD model and the competitor models discussed in the notebook and show how they are compared over a few measurements. It also includes some stats about the annotated floor properties, and an optimised FCD model for highest accuracy."
   ]
  },
  {
   "cell_type": "code",
   "execution_count": 1,
   "metadata": {},
   "outputs": [],
   "source": [
    "import itertools\n",
    "import pathlib\n",
    "\n",
    "from scipy import optimize as soptimize\n",
    "import numpy as np\n",
    "import pandas as pd\n",
    "\n",
    "import predict_fcd\n",
    "import utils.annotated_floor\n",
    "import utils.iteration\n",
    "import utils.path"
   ]
  },
  {
   "cell_type": "code",
   "execution_count": 2,
   "metadata": {},
   "outputs": [],
   "source": [
    "%load_ext autoreload\n",
    "\n",
    "%autoreload 2\n",
    "\n",
    "np.random.seed(1234)"
   ]
  },
  {
   "cell_type": "code",
   "execution_count": 3,
   "metadata": {},
   "outputs": [],
   "source": [
    "FEATURES_DIR = pathlib.Path('features')\n",
    "PREDICTIONS_DIR = pathlib.Path('predictions')\n",
    "\n",
    "ANALYSIS_SAMPLE_RATE = 10\n",
    "SAMPLE_RATE = {\n",
    "    'fcd': 50,\n",
    "    'optimised_fcd': 50,\n",
    "    'vad': 50,\n",
    "    'full-lstm': 20,\n",
    "    'partial-lstm': 20,\n",
    "    'random': ANALYSIS_SAMPLE_RATE,\n",
    "}\n",
    "OPTIMISED_FCD_PARAMS = (0.83917969, 0.03746094)  # Can be overriden by lengthy optimisation below"
   ]
  },
  {
   "cell_type": "markdown",
   "metadata": {},
   "source": [
    "# Utilities\n",
    "\n",
    "General utilities."
   ]
  },
  {
   "cell_type": "code",
   "execution_count": 4,
   "metadata": {},
   "outputs": [],
   "source": [
    "def array_to_series(x, name, sample_rate):\n",
    "    '''\n",
    "    Convert a numpy array to a pandas series\n",
    "    with time index.\n",
    "    '''\n",
    "    x = x[::sample_rate // ANALYSIS_SAMPLE_RATE]\n",
    "    return pd.Series(\n",
    "        x,\n",
    "        index=np.arange(len(x)) / ANALYSIS_SAMPLE_RATE,\n",
    "        name=name,\n",
    "    )"
   ]
  },
  {
   "cell_type": "code",
   "execution_count": 5,
   "metadata": {},
   "outputs": [],
   "source": [
    "def utterances_to_floor(utterances_df):\n",
    "    '''\n",
    "    Calculate the floor timeseries from a dataframe\n",
    "    of utterances (every row has start_time, end_time,\n",
    "    and participant).\n",
    "    '''\n",
    "    return array_to_series(\n",
    "        list(\n",
    "            utils.annotated_floor.gen(\n",
    "                utterances_df,\n",
    "                sample_rate=ANALYSIS_SAMPLE_RATE,\n",
    "            )\n",
    "        ),\n",
    "        name='floor',\n",
    "        sample_rate=ANALYSIS_SAMPLE_RATE,\n",
    "    )"
   ]
  },
  {
   "cell_type": "markdown",
   "metadata": {},
   "source": [
    "Random model utilities."
   ]
  },
  {
   "cell_type": "code",
   "execution_count": 6,
   "metadata": {},
   "outputs": [],
   "source": [
    "def _generate_random_model_intervals(average_floor_duration):\n",
    "    floor_holder = np.random.randint(2)\n",
    "    previous_timestamp = 0\n",
    "    while True:\n",
    "        samples = np.random.exponential(average_floor_duration, 100)\n",
    "        timestamps = samples.cumsum() + previous_timestamp\n",
    "        for timestamp in timestamps:\n",
    "            yield {\n",
    "                'start_time': previous_timestamp,\n",
    "                'end_time': timestamp,\n",
    "                'participant': floor_holder,\n",
    "            }\n",
    "            floor_holder = (floor_holder * -1) + 1\n",
    "            previous_timestamp = timestamp\n",
    "\n",
    "\n",
    "def calculate_random_model(average_floor_duration, part_duration):\n",
    "    '''\n",
    "    Calculate a random floor array with turns duration distributin\n",
    "    exponentially with `average_floor_duration` as mean.\n",
    "    '''\n",
    "    gen = _generate_random_model_intervals(average_floor_duration)\n",
    "    gen = itertools.takewhile(lambda i: i['start_time'] < part_duration, gen)\n",
    "    return list(\n",
    "        utils.iteration.intervals_to_values_gen(\n",
    "            gen,\n",
    "            sample_rate=ANALYSIS_SAMPLE_RATE,\n",
    "            key='participant',\n",
    "        )\n",
    "    )"
   ]
  },
  {
   "cell_type": "markdown",
   "metadata": {},
   "source": [
    "# Annotated floor stats"
   ]
  },
  {
   "cell_type": "code",
   "execution_count": 7,
   "metadata": {},
   "outputs": [],
   "source": [
    "def annotated_floor_stats_gen():\n",
    "    '''\n",
    "    Calculate basic stats about the annotated floor.\n",
    "    '''\n",
    "    for part in utils.path.session_parts_gen(train_set=True, test_set=True):\n",
    "        utterances_df = pd.read_csv(FEATURES_DIR / 'utterances' / f'{part}.csv')\n",
    "        floor_intervals = list(utils.annotated_floor.utterances_to_floor_intervals_gen(utterances_df))\n",
    "        floor = list(\n",
    "            utils.iteration.intervals_to_values_gen(\n",
    "                floor_intervals,\n",
    "                sample_rate=ANALYSIS_SAMPLE_RATE,\n",
    "                key='participant',\n",
    "            )\n",
    "        )\n",
    "        yield {\n",
    "            'competition_for_floor': np.isnan(floor).mean(),\n",
    "            'average_floor_duration': np.mean([i['end_time'] - i['start_time'] for i in floor_intervals])\n",
    "        }"
   ]
  },
  {
   "cell_type": "code",
   "execution_count": 8,
   "metadata": {},
   "outputs": [
    {
     "data": {
      "text/html": [
       "<div>\n",
       "<style scoped>\n",
       "    .dataframe tbody tr th:only-of-type {\n",
       "        vertical-align: middle;\n",
       "    }\n",
       "\n",
       "    .dataframe tbody tr th {\n",
       "        vertical-align: top;\n",
       "    }\n",
       "\n",
       "    .dataframe thead th {\n",
       "        text-align: right;\n",
       "    }\n",
       "</style>\n",
       "<table border=\"1\" class=\"dataframe\">\n",
       "  <thead>\n",
       "    <tr style=\"text-align: right;\">\n",
       "      <th></th>\n",
       "      <th>competition_for_floor</th>\n",
       "      <th>average_floor_duration</th>\n",
       "    </tr>\n",
       "  </thead>\n",
       "  <tbody>\n",
       "    <tr>\n",
       "      <th>count</th>\n",
       "      <td>30.000000</td>\n",
       "      <td>30.000000</td>\n",
       "    </tr>\n",
       "    <tr>\n",
       "      <th>mean</th>\n",
       "      <td>0.162378</td>\n",
       "      <td>3.527355</td>\n",
       "    </tr>\n",
       "    <tr>\n",
       "      <th>std</th>\n",
       "      <td>0.062455</td>\n",
       "      <td>1.364506</td>\n",
       "    </tr>\n",
       "    <tr>\n",
       "      <th>min</th>\n",
       "      <td>0.069196</td>\n",
       "      <td>1.974816</td>\n",
       "    </tr>\n",
       "    <tr>\n",
       "      <th>25%</th>\n",
       "      <td>0.130197</td>\n",
       "      <td>2.379544</td>\n",
       "    </tr>\n",
       "    <tr>\n",
       "      <th>50%</th>\n",
       "      <td>0.150684</td>\n",
       "      <td>3.090434</td>\n",
       "    </tr>\n",
       "    <tr>\n",
       "      <th>75%</th>\n",
       "      <td>0.179954</td>\n",
       "      <td>4.305084</td>\n",
       "    </tr>\n",
       "    <tr>\n",
       "      <th>max</th>\n",
       "      <td>0.406789</td>\n",
       "      <td>7.104639</td>\n",
       "    </tr>\n",
       "  </tbody>\n",
       "</table>\n",
       "</div>"
      ],
      "text/plain": [
       "       competition_for_floor  average_floor_duration\n",
       "count              30.000000               30.000000\n",
       "mean                0.162378                3.527355\n",
       "std                 0.062455                1.364506\n",
       "min                 0.069196                1.974816\n",
       "25%                 0.130197                2.379544\n",
       "50%                 0.150684                3.090434\n",
       "75%                 0.179954                4.305084\n",
       "max                 0.406789                7.104639"
      ]
     },
     "execution_count": 8,
     "metadata": {},
     "output_type": "execute_result"
    }
   ],
   "source": [
    "annotated_floor_stats_df = pd.DataFrame(annotated_floor_stats_gen())\n",
    "annotated_floor_stats_df.describe()"
   ]
  },
  {
   "cell_type": "code",
   "execution_count": 9,
   "metadata": {},
   "outputs": [],
   "source": [
    "# Keep the average floor duration for later, for the random model\n",
    "average_floor_duration = annotated_floor_stats_df['average_floor_duration'].mean()"
   ]
  },
  {
   "cell_type": "markdown",
   "metadata": {},
   "source": [
    "# Performance measures generators\n",
    "\n",
    "Generator functions to measure the performance of a model compared to the annotated floor and annotated backhannels."
   ]
  },
  {
   "cell_type": "code",
   "execution_count": 10,
   "metadata": {},
   "outputs": [],
   "source": [
    "def accuracy(model, floor):\n",
    "    '''\n",
    "    For each frame with defined floor (no competition nor silence)\n",
    "    yields 1 if the model and the floor agrees, 0 otherwise.\n",
    "    '''\n",
    "    both = pd.concat([model, floor], axis=1).dropna()\n",
    "    yield from (both.iloc[:, 0] == both.iloc[:, 1]).astype(int)"
   ]
  },
  {
   "cell_type": "code",
   "execution_count": 11,
   "metadata": {},
   "outputs": [],
   "source": [
    "def backchannels(model, utterances_df):\n",
    "    '''\n",
    "    For each backchannel yield 1 if the model report a floor\n",
    "    for the partner, 0 otherwise.\n",
    "    '''\n",
    "    backchannels = utterances_df[utterances_df['backchannel']]\n",
    "    for _, bc in backchannels.iterrows():\n",
    "        bc_timestamp = bc['start_time']\n",
    "        prediction_at_bc = model[bc_timestamp:].values[0]\n",
    "        if prediction_at_bc:\n",
    "            yield int(prediction_at_bc != bc['participant'])"
   ]
  },
  {
   "cell_type": "code",
   "execution_count": 12,
   "metadata": {},
   "outputs": [],
   "source": [
    "def _floor_holder_changes(array):\n",
    "    array = array[~np.isnan(array)]\n",
    "    items = utils.iteration.dedup(array)\n",
    "    return len(list(items)) - 1  # number of changes is number of values minus 1\n",
    "\n",
    "\n",
    "def stability(model, floor):\n",
    "    '''\n",
    "    Ratio of actual floor changes vs. predicted floor changes.\n",
    "    '''\n",
    "    annotated_floor_changes = _floor_holder_changes(floor)\n",
    "    model_floor_changes = _floor_holder_changes(model)\n",
    "    yield annotated_floor_changes / model_floor_changes"
   ]
  },
  {
   "cell_type": "code",
   "execution_count": 13,
   "metadata": {},
   "outputs": [],
   "source": [
    "def lag(model, floor):\n",
    "    '''\n",
    "    Yield positive lags in seconds.\n",
    "    '''\n",
    "    model_change = pd.Series(dict(utils.iteration.dedup(model.dropna().iteritems(), key=lambda x: x[1])))\n",
    "    floor_change = pd.Series(dict(utils.iteration.dedup(floor.dropna().iteritems(), key=lambda x: x[1])))\n",
    "\n",
    "    visited_timestamps = set()\n",
    "    for timestamp, prediction in model_change.iteritems():\n",
    "        previous_floors = floor_change[:timestamp]\n",
    "        if not previous_floors.empty:\n",
    "            current_floor_timestamp = previous_floors.index[-1]\n",
    "            current_floor_value = previous_floors.values[-1]\n",
    "            if (current_floor_value == prediction and current_floor_timestamp not in visited_timestamps):\n",
    "                yield (timestamp - current_floor_timestamp)\n",
    "            visited_timestamps.add(current_floor_timestamp)"
   ]
  },
  {
   "cell_type": "markdown",
   "metadata": {},
   "source": [
    "# Optimising FCD parameters for accuracy"
   ]
  },
  {
   "cell_type": "code",
   "execution_count": 14,
   "metadata": {},
   "outputs": [],
   "source": [
    "def get_negative_accuracy_from_model(params, optimisation_data):\n",
    "\n",
    "    accuracies = []\n",
    "    for rms, floor in optimisation_data:\n",
    "        fcd_gen = predict_fcd.gen_from_rms(rms, *params)\n",
    "        fcd = array_to_series(list(fcd_gen), name='fcd', sample_rate=SAMPLE_RATE['fcd'])\n",
    "        accuracies.append(accuracy(fcd, floor))\n",
    "    \n",
    "    return -np.mean(accuracies)"
   ]
  },
  {
   "cell_type": "code",
   "execution_count": 15,
   "metadata": {},
   "outputs": [],
   "source": [
    "optimisation_data = []\n",
    "for part in utils.path.session_parts_gen(train_set=True, test_set=False):\n",
    "    utterances_df = pd.read_csv(FEATURES_DIR / 'utterances' / f'{part}.csv')\n",
    "    floor = utterances_to_floor(utterances_df)\n",
    "    rms = np.load(FEATURES_DIR / 'FCD' / f'{part}.npy')\n",
    "    optimisation_data.append((rms, floor))"
   ]
  },
  {
   "cell_type": "markdown",
   "metadata": {},
   "source": [
    "**Note!** This cell takes a while to run. Feel free to comment it out as the entire notebook can be run without it. The default optimised parameters (declared at the top of the notebook) will be used in that case."
   ]
  },
  {
   "cell_type": "code",
   "execution_count": 16,
   "metadata": {
    "scrolled": false
   },
   "outputs": [
    {
     "name": "stdout",
     "output_type": "stream",
     "text": [
      "Optimization terminated successfully.\n",
      "         Current function value: -0.884932\n",
      "         Iterations: 28\n",
      "         Function evaluations: 63\n",
      "CPU times: user 11min 24s, sys: 6.04 s, total: 11min 30s\n",
      "Wall time: 11min 25s\n"
     ]
    },
    {
     "data": {
      "text/plain": [
       " final_simplex: (array([[0.83917969, 0.03746094],\n",
       "       [0.83917969, 0.03738281],\n",
       "       [0.83921387, 0.03741699]]), array([-0.88493247, -0.88493247, -0.88493247]))\n",
       "           fun: -0.8849324706878398\n",
       "       message: 'Optimization terminated successfully.'\n",
       "          nfev: 63\n",
       "           nit: 28\n",
       "        status: 0\n",
       "       success: True\n",
       "             x: array([0.83917969, 0.03746094])"
      ]
     },
     "execution_count": 16,
     "metadata": {},
     "output_type": "execute_result"
    }
   ],
   "source": [
    "%%time\n",
    "\n",
    "res = soptimize.minimize(\n",
    "     get_negative_accuracy_from_model,\n",
    "     [0.35, 0.1],\n",
    "     args=(optimisation_data, ),\n",
    "     method='Nelder-Mead',\n",
    "     options={'disp': True},\n",
    ")\n",
    "OPTIMISED_FCD_PARAMS = res.x\n",
    "res"
   ]
  },
  {
   "cell_type": "markdown",
   "metadata": {},
   "source": [
    "# Comparing the models performance"
   ]
  },
  {
   "cell_type": "code",
   "execution_count": 17,
   "metadata": {
    "scrolled": false
   },
   "outputs": [],
   "source": [
    "def _part_models_stats_gen(part, average_floor_duration):\n",
    "    utterances_df = pd.read_csv(FEATURES_DIR / 'utterances' / f'{part}.csv')\n",
    "    floor = utterances_to_floor(utterances_df)\n",
    "    rms = np.load(FEATURES_DIR / 'FCD' / f'{part}.npy')\n",
    "\n",
    "    models = {\n",
    "        'fcd': np.load(PREDICTIONS_DIR / 'FCD' / f'{part}.npy'),\n",
    "        'optimised_fcd': list(predict_fcd.gen_from_rms(rms, *OPTIMISED_FCD_PARAMS)),\n",
    "        'full-lstm': np.load(PREDICTIONS_DIR / 'LSTM' / f'full-{part}.npy'),\n",
    "        'partial-lstm': np.load(PREDICTIONS_DIR / 'LSTM' / f'partial-{part}.npy'),\n",
    "        'vad': np.load(PREDICTIONS_DIR / 'VAD' / f'{part}.npy'),\n",
    "        'random': calculate_random_model(\n",
    "            average_floor_duration,\n",
    "            part_duration=floor.index[-1],\n",
    "        ),\n",
    "    }\n",
    "\n",
    "    models_df = pd.concat(\n",
    "        [array_to_series(x, name=n, sample_rate=SAMPLE_RATE[n]) for n, x in models.items()],\n",
    "        axis=1,\n",
    "    )\n",
    "\n",
    "    measurement_functions_and_args = {\n",
    "        backchannels: utterances_df,\n",
    "        **{f: floor for f in [accuracy, stability, lag]},\n",
    "    }\n",
    "\n",
    "    for model in models:\n",
    "        for f, arg in measurement_functions_and_args.items():\n",
    "            for value in f(models_df[model], arg):\n",
    "                yield {\n",
    "                    'part': part,\n",
    "                    'model': model,\n",
    "                    'measurement': f.__name__,\n",
    "                    'value': value,\n",
    "                }\n",
    "\n",
    "\n",
    "def models_stats_gen(average_floor_duration):\n",
    "    '''\n",
    "    Calculate the performance measure for each model accross the\n",
    "    test-set.\n",
    "    '''\n",
    "    for part in utils.path.session_parts_gen(train_set=False, test_set=True):\n",
    "        yield from _part_models_stats_gen(part, average_floor_duration)"
   ]
  },
  {
   "cell_type": "code",
   "execution_count": 18,
   "metadata": {
    "scrolled": false
   },
   "outputs": [],
   "source": [
    "models_stats_df = pd.DataFrame(models_stats_gen(average_floor_duration))"
   ]
  },
  {
   "cell_type": "code",
   "execution_count": 19,
   "metadata": {},
   "outputs": [
    {
     "data": {
      "text/html": [
       "<div>\n",
       "<style scoped>\n",
       "    .dataframe tbody tr th:only-of-type {\n",
       "        vertical-align: middle;\n",
       "    }\n",
       "\n",
       "    .dataframe tbody tr th {\n",
       "        vertical-align: top;\n",
       "    }\n",
       "\n",
       "    .dataframe thead th {\n",
       "        text-align: right;\n",
       "    }\n",
       "</style>\n",
       "<table border=\"1\" class=\"dataframe\">\n",
       "  <thead>\n",
       "    <tr style=\"text-align: right;\">\n",
       "      <th></th>\n",
       "      <th></th>\n",
       "      <th>mean</th>\n",
       "      <th>std</th>\n",
       "    </tr>\n",
       "    <tr>\n",
       "      <th>model</th>\n",
       "      <th>measurement</th>\n",
       "      <th></th>\n",
       "      <th></th>\n",
       "    </tr>\n",
       "  </thead>\n",
       "  <tbody>\n",
       "    <tr>\n",
       "      <th rowspan=\"4\" valign=\"top\">fcd</th>\n",
       "      <th>accuracy</th>\n",
       "      <td>0.864072</td>\n",
       "      <td>0.024511</td>\n",
       "    </tr>\n",
       "    <tr>\n",
       "      <th>backchannels</th>\n",
       "      <td>0.889487</td>\n",
       "      <td>0.116967</td>\n",
       "    </tr>\n",
       "    <tr>\n",
       "      <th>lag</th>\n",
       "      <td>0.396651</td>\n",
       "      <td>0.032862</td>\n",
       "    </tr>\n",
       "    <tr>\n",
       "      <th>stability</th>\n",
       "      <td>0.856768</td>\n",
       "      <td>0.183371</td>\n",
       "    </tr>\n",
       "    <tr>\n",
       "      <th rowspan=\"4\" valign=\"top\">full-lstm</th>\n",
       "      <th>accuracy</th>\n",
       "      <td>0.904171</td>\n",
       "      <td>0.024956</td>\n",
       "    </tr>\n",
       "    <tr>\n",
       "      <th>backchannels</th>\n",
       "      <td>0.816202</td>\n",
       "      <td>0.090941</td>\n",
       "    </tr>\n",
       "    <tr>\n",
       "      <th>lag</th>\n",
       "      <td>0.163419</td>\n",
       "      <td>0.089304</td>\n",
       "    </tr>\n",
       "    <tr>\n",
       "      <th>stability</th>\n",
       "      <td>0.290748</td>\n",
       "      <td>0.081568</td>\n",
       "    </tr>\n",
       "    <tr>\n",
       "      <th rowspan=\"4\" valign=\"top\">optimised_fcd</th>\n",
       "      <th>accuracy</th>\n",
       "      <td>0.887575</td>\n",
       "      <td>0.014861</td>\n",
       "    </tr>\n",
       "    <tr>\n",
       "      <th>backchannels</th>\n",
       "      <td>0.746855</td>\n",
       "      <td>0.174999</td>\n",
       "    </tr>\n",
       "    <tr>\n",
       "      <th>lag</th>\n",
       "      <td>0.156316</td>\n",
       "      <td>0.029107</td>\n",
       "    </tr>\n",
       "    <tr>\n",
       "      <th>stability</th>\n",
       "      <td>0.479205</td>\n",
       "      <td>0.122705</td>\n",
       "    </tr>\n",
       "    <tr>\n",
       "      <th rowspan=\"4\" valign=\"top\">partial-lstm</th>\n",
       "      <th>accuracy</th>\n",
       "      <td>0.878560</td>\n",
       "      <td>0.061605</td>\n",
       "    </tr>\n",
       "    <tr>\n",
       "      <th>backchannels</th>\n",
       "      <td>0.769757</td>\n",
       "      <td>0.115711</td>\n",
       "    </tr>\n",
       "    <tr>\n",
       "      <th>lag</th>\n",
       "      <td>0.169148</td>\n",
       "      <td>0.120208</td>\n",
       "    </tr>\n",
       "    <tr>\n",
       "      <th>stability</th>\n",
       "      <td>0.242624</td>\n",
       "      <td>0.057588</td>\n",
       "    </tr>\n",
       "    <tr>\n",
       "      <th rowspan=\"4\" valign=\"top\">random</th>\n",
       "      <th>accuracy</th>\n",
       "      <td>0.481952</td>\n",
       "      <td>0.044649</td>\n",
       "    </tr>\n",
       "    <tr>\n",
       "      <th>backchannels</th>\n",
       "      <td>0.509509</td>\n",
       "      <td>0.179864</td>\n",
       "    </tr>\n",
       "    <tr>\n",
       "      <th>lag</th>\n",
       "      <td>1.757282</td>\n",
       "      <td>0.403382</td>\n",
       "    </tr>\n",
       "    <tr>\n",
       "      <th>stability</th>\n",
       "      <td>0.961022</td>\n",
       "      <td>0.247827</td>\n",
       "    </tr>\n",
       "    <tr>\n",
       "      <th rowspan=\"4\" valign=\"top\">vad</th>\n",
       "      <th>accuracy</th>\n",
       "      <td>0.764909</td>\n",
       "      <td>0.082146</td>\n",
       "    </tr>\n",
       "    <tr>\n",
       "      <th>backchannels</th>\n",
       "      <td>0.476896</td>\n",
       "      <td>0.219540</td>\n",
       "    </tr>\n",
       "    <tr>\n",
       "      <th>lag</th>\n",
       "      <td>0.487433</td>\n",
       "      <td>0.135832</td>\n",
       "    </tr>\n",
       "    <tr>\n",
       "      <th>stability</th>\n",
       "      <td>0.365151</td>\n",
       "      <td>0.071186</td>\n",
       "    </tr>\n",
       "  </tbody>\n",
       "</table>\n",
       "</div>"
      ],
      "text/plain": [
       "                                mean       std\n",
       "model         measurement                     \n",
       "fcd           accuracy      0.864072  0.024511\n",
       "              backchannels  0.889487  0.116967\n",
       "              lag           0.396651  0.032862\n",
       "              stability     0.856768  0.183371\n",
       "full-lstm     accuracy      0.904171  0.024956\n",
       "              backchannels  0.816202  0.090941\n",
       "              lag           0.163419  0.089304\n",
       "              stability     0.290748  0.081568\n",
       "optimised_fcd accuracy      0.887575  0.014861\n",
       "              backchannels  0.746855  0.174999\n",
       "              lag           0.156316  0.029107\n",
       "              stability     0.479205  0.122705\n",
       "partial-lstm  accuracy      0.878560  0.061605\n",
       "              backchannels  0.769757  0.115711\n",
       "              lag           0.169148  0.120208\n",
       "              stability     0.242624  0.057588\n",
       "random        accuracy      0.481952  0.044649\n",
       "              backchannels  0.509509  0.179864\n",
       "              lag           1.757282  0.403382\n",
       "              stability     0.961022  0.247827\n",
       "vad           accuracy      0.764909  0.082146\n",
       "              backchannels  0.476896  0.219540\n",
       "              lag           0.487433  0.135832\n",
       "              stability     0.365151  0.071186"
      ]
     },
     "execution_count": 19,
     "metadata": {},
     "output_type": "execute_result"
    }
   ],
   "source": [
    "(\n",
    "    models_stats_df\n",
    "    .groupby(['model', 'measurement', 'part'])\n",
    "    ['value']\n",
    "    .mean()\n",
    "    .groupby(['model', 'measurement'])\n",
    "    .agg(['mean', 'std'])\n",
    ")"
   ]
  }
 ],
 "metadata": {
  "kernelspec": {
   "display_name": "Python 3",
   "language": "python",
   "name": "python3"
  },
  "language_info": {
   "codemirror_mode": {
    "name": "ipython",
    "version": 3
   },
   "file_extension": ".py",
   "mimetype": "text/x-python",
   "name": "python",
   "nbconvert_exporter": "python",
   "pygments_lexer": "ipython3",
   "version": "3.8.6"
  }
 },
 "nbformat": 4,
 "nbformat_minor": 2
}
