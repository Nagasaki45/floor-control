{
 "cells": [
  {
   "cell_type": "markdown",
   "metadata": {},
   "source": [
    "# Analysis for the floor control detection (FCD) model and competitor models\n",
    "\n",
    "This notebook includes analyses the predictions of the FCD model and the competitor models discussed in the notebook and show how they are compared over a few measurements. It also includes some stats about the annotated floor properties, and an optimised FCD model for highest accuracy."
   ]
  },
  {
   "cell_type": "code",
   "execution_count": 1,
   "metadata": {},
   "outputs": [],
   "source": [
    "import itertools\n",
    "import pathlib\n",
    "\n",
    "import matplotlib.pyplot as plt\n",
    "import numpy as np\n",
    "import pandas as pd\n",
    "import pyjags\n",
    "from scipy import optimize as soptimize\n",
    "\n",
    "import predict_fcd\n",
    "import utils.annotated_floor\n",
    "import utils.iteration\n",
    "import utils.mcmc_plot\n",
    "import utils.path"
   ]
  },
  {
   "cell_type": "code",
   "execution_count": 2,
   "metadata": {},
   "outputs": [],
   "source": [
    "%load_ext autoreload\n",
    "\n",
    "%autoreload 2\n",
    "\n",
    "plt.style.use('ggplot')\n",
    "plt.rcParams.update({'axes.titlesize': 'large'})\n",
    "np.random.seed(1234)"
   ]
  },
  {
   "cell_type": "code",
   "execution_count": 3,
   "metadata": {},
   "outputs": [],
   "source": [
    "FEATURES_DIR = pathlib.Path('features')\n",
    "PREDICTIONS_DIR = pathlib.Path('predictions')\n",
    "\n",
    "ANALYSIS_SAMPLE_RATE = 10\n",
    "SAMPLE_RATE = {\n",
    "    'fcd': 50,\n",
    "    'optimised_fcd': 50,\n",
    "    'lstm': 20,\n",
    "    'partial_lstm': 20,\n",
    "    'vad': 50,\n",
    "    'random': ANALYSIS_SAMPLE_RATE,\n",
    "}\n",
    "MODELS = list(SAMPLE_RATE.keys())\n",
    "\n",
    "DEFAULT_FCD_PARAMS = (0.35, 0.1)\n",
    "OPTIMISED_FCD_PARAMS = (1.78924915, 1.06722576)  # Overriden by lengthy optimisation below\n",
    "\n",
    "CHAINS = 4\n",
    "ITERATIONS = 20_000"
   ]
  },
  {
   "cell_type": "markdown",
   "metadata": {},
   "source": [
    "# Utilities\n",
    "\n",
    "General utilities."
   ]
  },
  {
   "cell_type": "code",
   "execution_count": 4,
   "metadata": {},
   "outputs": [],
   "source": [
    "def array_to_series(x, name, sample_rate):\n",
    "    '''\n",
    "    Convert a numpy array to a pandas series\n",
    "    with time index.\n",
    "    '''\n",
    "    x = x[::sample_rate // ANALYSIS_SAMPLE_RATE]\n",
    "    return pd.Series(\n",
    "        x,\n",
    "        index=np.arange(len(x)) / ANALYSIS_SAMPLE_RATE,\n",
    "        name=name,\n",
    "    )"
   ]
  },
  {
   "cell_type": "code",
   "execution_count": 5,
   "metadata": {},
   "outputs": [],
   "source": [
    "def utterances_to_floor(utterances_df):\n",
    "    '''\n",
    "    Calculate the floor timeseries from a dataframe\n",
    "    of utterances (every row has start_time, end_time,\n",
    "    and participant).\n",
    "    '''\n",
    "    return array_to_series(\n",
    "        list(\n",
    "            utils.annotated_floor.gen(\n",
    "                utterances_df,\n",
    "                sample_rate=ANALYSIS_SAMPLE_RATE,\n",
    "            )\n",
    "        ),\n",
    "        name='floor',\n",
    "        sample_rate=ANALYSIS_SAMPLE_RATE,\n",
    "    )"
   ]
  },
  {
   "cell_type": "markdown",
   "metadata": {},
   "source": [
    "Random model utilities."
   ]
  },
  {
   "cell_type": "code",
   "execution_count": 6,
   "metadata": {},
   "outputs": [],
   "source": [
    "def _generate_random_model_intervals(average_floor_duration):\n",
    "    floor_holder = np.random.randint(2)\n",
    "    previous_timestamp = 0\n",
    "    while True:\n",
    "        samples = np.random.exponential(average_floor_duration, 100)\n",
    "        timestamps = samples.cumsum() + previous_timestamp\n",
    "        for timestamp in timestamps:\n",
    "            yield {\n",
    "                'start_time': previous_timestamp,\n",
    "                'end_time': timestamp,\n",
    "                'participant': floor_holder,\n",
    "            }\n",
    "            floor_holder = (floor_holder * -1) + 1\n",
    "            previous_timestamp = timestamp\n",
    "\n",
    "\n",
    "def calculate_random_model(average_floor_duration, part_duration):\n",
    "    '''\n",
    "    Calculate a random floor array with turns duration distributin\n",
    "    exponentially with `average_floor_duration` as mean.\n",
    "    '''\n",
    "    gen = _generate_random_model_intervals(average_floor_duration)\n",
    "    gen = itertools.takewhile(lambda i: i['start_time'] < part_duration, gen)\n",
    "    return list(\n",
    "        utils.iteration.intervals_to_values_gen(\n",
    "            gen,\n",
    "            sample_rate=ANALYSIS_SAMPLE_RATE,\n",
    "            key='participant',\n",
    "        )\n",
    "    )"
   ]
  },
  {
   "cell_type": "markdown",
   "metadata": {},
   "source": [
    "# Annotated floor stats"
   ]
  },
  {
   "cell_type": "code",
   "execution_count": 7,
   "metadata": {},
   "outputs": [],
   "source": [
    "def annotated_floor_stats_gen():\n",
    "    '''\n",
    "    Calculate basic stats about the annotated floor.\n",
    "    '''\n",
    "    for part in utils.path.session_parts_gen(train_set=True, test_set=True):\n",
    "        utterances_df = pd.read_csv(FEATURES_DIR / 'utterances' / f'{part}.csv')\n",
    "        floor_intervals = list(utils.annotated_floor.utterances_to_floor_intervals_gen(utterances_df))\n",
    "        floor = list(\n",
    "            utils.iteration.intervals_to_values_gen(\n",
    "                floor_intervals,\n",
    "                sample_rate=ANALYSIS_SAMPLE_RATE,\n",
    "                key='participant',\n",
    "            )\n",
    "        )\n",
    "        yield {\n",
    "            'competition_for_floor': np.isnan(floor).mean(),\n",
    "            'average_floor_duration': np.mean([i['end_time'] - i['start_time'] for i in floor_intervals])\n",
    "        }"
   ]
  },
  {
   "cell_type": "code",
   "execution_count": 8,
   "metadata": {},
   "outputs": [
    {
     "data": {
      "text/html": [
       "<div>\n",
       "<style scoped>\n",
       "    .dataframe tbody tr th:only-of-type {\n",
       "        vertical-align: middle;\n",
       "    }\n",
       "\n",
       "    .dataframe tbody tr th {\n",
       "        vertical-align: top;\n",
       "    }\n",
       "\n",
       "    .dataframe thead th {\n",
       "        text-align: right;\n",
       "    }\n",
       "</style>\n",
       "<table border=\"1\" class=\"dataframe\">\n",
       "  <thead>\n",
       "    <tr style=\"text-align: right;\">\n",
       "      <th></th>\n",
       "      <th>competition_for_floor</th>\n",
       "      <th>average_floor_duration</th>\n",
       "    </tr>\n",
       "  </thead>\n",
       "  <tbody>\n",
       "    <tr>\n",
       "      <th>count</th>\n",
       "      <td>30.000000</td>\n",
       "      <td>30.000000</td>\n",
       "    </tr>\n",
       "    <tr>\n",
       "      <th>mean</th>\n",
       "      <td>0.162378</td>\n",
       "      <td>3.527355</td>\n",
       "    </tr>\n",
       "    <tr>\n",
       "      <th>std</th>\n",
       "      <td>0.062455</td>\n",
       "      <td>1.364506</td>\n",
       "    </tr>\n",
       "    <tr>\n",
       "      <th>min</th>\n",
       "      <td>0.069196</td>\n",
       "      <td>1.974816</td>\n",
       "    </tr>\n",
       "    <tr>\n",
       "      <th>25%</th>\n",
       "      <td>0.130197</td>\n",
       "      <td>2.379544</td>\n",
       "    </tr>\n",
       "    <tr>\n",
       "      <th>50%</th>\n",
       "      <td>0.150684</td>\n",
       "      <td>3.090434</td>\n",
       "    </tr>\n",
       "    <tr>\n",
       "      <th>75%</th>\n",
       "      <td>0.179954</td>\n",
       "      <td>4.305084</td>\n",
       "    </tr>\n",
       "    <tr>\n",
       "      <th>max</th>\n",
       "      <td>0.406789</td>\n",
       "      <td>7.104639</td>\n",
       "    </tr>\n",
       "  </tbody>\n",
       "</table>\n",
       "</div>"
      ],
      "text/plain": [
       "       competition_for_floor  average_floor_duration\n",
       "count              30.000000               30.000000\n",
       "mean                0.162378                3.527355\n",
       "std                 0.062455                1.364506\n",
       "min                 0.069196                1.974816\n",
       "25%                 0.130197                2.379544\n",
       "50%                 0.150684                3.090434\n",
       "75%                 0.179954                4.305084\n",
       "max                 0.406789                7.104639"
      ]
     },
     "execution_count": 8,
     "metadata": {},
     "output_type": "execute_result"
    }
   ],
   "source": [
    "annotated_floor_stats_df = pd.DataFrame(annotated_floor_stats_gen())\n",
    "annotated_floor_stats_df.describe()"
   ]
  },
  {
   "cell_type": "code",
   "execution_count": 9,
   "metadata": {},
   "outputs": [],
   "source": [
    "# Keep the average floor duration for later, for the random model\n",
    "average_floor_duration = annotated_floor_stats_df['average_floor_duration'].mean()"
   ]
  },
  {
   "cell_type": "markdown",
   "metadata": {},
   "source": [
    "# Performance measures generators\n",
    "\n",
    "Generator functions to measure the performance of a model compared to the annotated floor and annotated backhannels."
   ]
  },
  {
   "cell_type": "code",
   "execution_count": 10,
   "metadata": {},
   "outputs": [],
   "source": [
    "def accuracy(model, floor):\n",
    "    '''\n",
    "    Every 10 seconds, if defined floor (no competition nor silence)\n",
    "    yields 1 if the model and the floor agrees, 0 otherwise. 10 seconds\n",
    "    jumps are used to make sure the samples are independent.\n",
    "    '''\n",
    "    jump = 10 * ANALYSIS_SAMPLE_RATE\n",
    "    both = pd.concat([model, floor], axis=1)[::jump].dropna()\n",
    "    yield from (both.iloc[:, 0] == both.iloc[:, 1]).astype(int)"
   ]
  },
  {
   "cell_type": "code",
   "execution_count": 11,
   "metadata": {},
   "outputs": [],
   "source": [
    "def backchannels(model, utterances_df):\n",
    "    '''\n",
    "    For each backchannel yield 1 if the model report a floor\n",
    "    for the partner, 0 otherwise.\n",
    "    '''\n",
    "    backchannels = utterances_df[utterances_df['backchannel']]\n",
    "    for _, bc in backchannels.iterrows():\n",
    "        bc_timestamp = bc['start_time']\n",
    "        prediction_at_bc = model[bc_timestamp:].values[0]\n",
    "        if prediction_at_bc:\n",
    "            yield int(prediction_at_bc != bc['participant'])"
   ]
  },
  {
   "cell_type": "code",
   "execution_count": 12,
   "metadata": {},
   "outputs": [],
   "source": [
    "def _floor_holder_changes(array):\n",
    "    array = array[~np.isnan(array)]\n",
    "    items = utils.iteration.dedup(array)\n",
    "    return len(list(items)) - 1  # number of changes is number of values minus 1\n",
    "\n",
    "\n",
    "def stability(model, floor):\n",
    "    '''\n",
    "    Ratio of actual floor changes vs. predicted floor changes.\n",
    "    '''\n",
    "    annotated_floor_changes = _floor_holder_changes(floor)\n",
    "    model_floor_changes = _floor_holder_changes(model)\n",
    "    yield annotated_floor_changes / model_floor_changes"
   ]
  },
  {
   "cell_type": "code",
   "execution_count": 13,
   "metadata": {},
   "outputs": [],
   "source": [
    "def lag(model, floor):\n",
    "    '''\n",
    "    Yield positive lags in seconds.\n",
    "    '''\n",
    "    model_change = pd.Series(dict(utils.iteration.dedup(model.dropna().iteritems(), key=lambda x: x[1])))\n",
    "    floor_change = pd.Series(dict(utils.iteration.dedup(floor.dropna().iteritems(), key=lambda x: x[1])))\n",
    "\n",
    "    visited_timestamps = set()\n",
    "    for timestamp, prediction in model_change.iteritems():\n",
    "        previous_floors = floor_change[:timestamp]\n",
    "        if not previous_floors.empty:\n",
    "            current_floor_timestamp = previous_floors.index[-1]\n",
    "            current_floor_value = previous_floors.values[-1]\n",
    "            if (current_floor_value == prediction and current_floor_timestamp not in visited_timestamps):\n",
    "                yield (timestamp - current_floor_timestamp)\n",
    "            visited_timestamps.add(current_floor_timestamp)"
   ]
  },
  {
   "cell_type": "markdown",
   "metadata": {},
   "source": [
    "# Optimising FCD parameters for accuracy"
   ]
  },
  {
   "cell_type": "code",
   "execution_count": 14,
   "metadata": {},
   "outputs": [],
   "source": [
    "optimisation_data = []\n",
    "for part in utils.path.session_parts_gen(train_set=True, test_set=False):\n",
    "    utterances_df = pd.read_csv(FEATURES_DIR / 'utterances' / f'{part}.csv')\n",
    "    floor = utterances_to_floor(utterances_df)\n",
    "    rms = np.load(FEATURES_DIR / 'FCD' / f'{part}.npy')\n",
    "    optimisation_data.append((rms, floor))"
   ]
  },
  {
   "cell_type": "code",
   "execution_count": 15,
   "metadata": {},
   "outputs": [],
   "source": [
    "def get_negative_accuracy_from_model(params):\n",
    "\n",
    "    accuracies = []\n",
    "    for rms, floor in optimisation_data:\n",
    "        fcd_gen = predict_fcd.gen_from_rms(rms, *params)\n",
    "        fcd = array_to_series(list(fcd_gen), name='fcd', sample_rate=SAMPLE_RATE['fcd'])\n",
    "        accuracies.append(np.mean(list(accuracy(fcd, floor))))\n",
    "    \n",
    "    return -np.mean(accuracies)"
   ]
  },
  {
   "cell_type": "markdown",
   "metadata": {},
   "source": [
    "**Note!** This cell takes a while to run. Feel free to comment it out as the entire notebook can be run without it. The default optimised parameters (declared at the top of the notebook) will be used in that case."
   ]
  },
  {
   "cell_type": "code",
   "execution_count": 16,
   "metadata": {
    "scrolled": false
   },
   "outputs": [
    {
     "name": "stdout",
     "output_type": "stream",
     "text": [
      "basinhopping step 0: f -0.879511\n",
      "basinhopping step 1: f -0.630346 trial_f -0.630346 accepted 1  lowest_f -0.879511\n",
      "basinhopping step 2: f -0.856367 trial_f -0.856367 accepted 1  lowest_f -0.879511\n",
      "basinhopping step 3: f -0.856367 trial_f -0.703061 accepted 0  lowest_f -0.879511\n",
      "basinhopping step 4: f -0.871679 trial_f -0.871679 accepted 1  lowest_f -0.879511\n",
      "basinhopping step 5: f -0.87547 trial_f -0.87547 accepted 1  lowest_f -0.879511\n",
      "basinhopping step 6: f -0.873652 trial_f -0.873652 accepted 1  lowest_f -0.879511\n",
      "basinhopping step 7: f -0.878282 trial_f -0.878282 accepted 1  lowest_f -0.879511\n",
      "basinhopping step 8: f -0.877361 trial_f -0.877361 accepted 1  lowest_f -0.879511\n",
      "basinhopping step 9: f -0.88257 trial_f -0.88257 accepted 1  lowest_f -0.88257\n",
      "found new global minimum on step 9 with function value -0.88257\n",
      "basinhopping step 10: f -0.874887 trial_f -0.874887 accepted 1  lowest_f -0.88257\n",
      "basinhopping step 11: f -0.87768 trial_f -0.87768 accepted 1  lowest_f -0.88257\n",
      "basinhopping step 12: f -0.876059 trial_f -0.876059 accepted 1  lowest_f -0.88257\n",
      "basinhopping step 13: f -0.890908 trial_f -0.890908 accepted 1  lowest_f -0.890908\n",
      "found new global minimum on step 13 with function value -0.890908\n",
      "basinhopping step 14: f -0.876966 trial_f -0.876966 accepted 1  lowest_f -0.890908\n",
      "basinhopping step 15: f -0.886798 trial_f -0.886798 accepted 1  lowest_f -0.890908\n",
      "basinhopping step 16: f -0.87767 trial_f -0.87767 accepted 1  lowest_f -0.890908\n",
      "basinhopping step 17: f -0.876696 trial_f -0.876696 accepted 1  lowest_f -0.890908\n",
      "basinhopping step 18: f -0.873803 trial_f -0.873803 accepted 1  lowest_f -0.890908\n",
      "basinhopping step 19: f -0.887204 trial_f -0.887204 accepted 1  lowest_f -0.890908\n",
      "basinhopping step 20: f -0.881965 trial_f -0.881965 accepted 1  lowest_f -0.890908\n",
      "basinhopping step 21: f -0.886209 trial_f -0.886209 accepted 1  lowest_f -0.890908\n",
      "basinhopping step 22: f -0.887046 trial_f -0.887046 accepted 1  lowest_f -0.890908\n",
      "basinhopping step 23: f -0.882666 trial_f -0.882666 accepted 1  lowest_f -0.890908\n",
      "basinhopping step 24: f -0.875287 trial_f -0.875287 accepted 1  lowest_f -0.890908\n",
      "basinhopping step 25: f -0.874475 trial_f -0.874475 accepted 1  lowest_f -0.890908\n",
      "basinhopping step 26: f -0.883842 trial_f -0.883842 accepted 1  lowest_f -0.890908\n",
      "basinhopping step 27: f -0.868639 trial_f -0.868639 accepted 1  lowest_f -0.890908\n",
      "basinhopping step 28: f -0.869932 trial_f -0.869932 accepted 1  lowest_f -0.890908\n",
      "basinhopping step 29: f -0.882183 trial_f -0.882183 accepted 1  lowest_f -0.890908\n",
      "basinhopping step 30: f -0.886339 trial_f -0.886339 accepted 1  lowest_f -0.890908\n",
      "basinhopping step 31: f -0.882628 trial_f -0.882628 accepted 1  lowest_f -0.890908\n",
      "basinhopping step 32: f -0.884269 trial_f -0.884269 accepted 1  lowest_f -0.890908\n",
      "basinhopping step 33: f -0.881286 trial_f -0.881286 accepted 1  lowest_f -0.890908\n",
      "basinhopping step 34: f -0.882901 trial_f -0.882901 accepted 1  lowest_f -0.890908\n",
      "basinhopping step 35: f -0.88513 trial_f -0.88513 accepted 1  lowest_f -0.890908\n",
      "basinhopping step 36: f -0.879862 trial_f -0.879862 accepted 1  lowest_f -0.890908\n",
      "basinhopping step 37: f -0.877456 trial_f -0.877456 accepted 1  lowest_f -0.890908\n",
      "basinhopping step 38: f -0.875528 trial_f -0.875528 accepted 1  lowest_f -0.890908\n",
      "basinhopping step 39: f -0.883305 trial_f -0.883305 accepted 1  lowest_f -0.890908\n",
      "basinhopping step 40: f -0.876044 trial_f -0.876044 accepted 1  lowest_f -0.890908\n",
      "basinhopping step 41: f -0.87409 trial_f -0.87409 accepted 1  lowest_f -0.890908\n",
      "basinhopping step 42: f -0.877274 trial_f -0.877274 accepted 1  lowest_f -0.890908\n",
      "basinhopping step 43: f -0.87508 trial_f -0.87508 accepted 1  lowest_f -0.890908\n",
      "basinhopping step 44: f -0.870207 trial_f -0.870207 accepted 1  lowest_f -0.890908\n",
      "basinhopping step 45: f -0.875858 trial_f -0.875858 accepted 1  lowest_f -0.890908\n",
      "basinhopping step 46: f -0.862827 trial_f -0.862827 accepted 1  lowest_f -0.890908\n",
      "basinhopping step 47: f -0.87135 trial_f -0.87135 accepted 1  lowest_f -0.890908\n",
      "basinhopping step 48: f -0.85901 trial_f -0.85901 accepted 1  lowest_f -0.890908\n",
      "basinhopping step 49: f -0.867639 trial_f -0.867639 accepted 1  lowest_f -0.890908\n",
      "adaptive stepsize: acceptance rate 0.960000 target 0.500000 new stepsize 0.555556 old stepsize 0.5\n",
      "basinhopping step 50: f -0.833036 trial_f -0.833036 accepted 1  lowest_f -0.890908\n",
      "basinhopping step 51: f -0.854301 trial_f -0.854301 accepted 1  lowest_f -0.890908\n",
      "basinhopping step 52: f -0.815817 trial_f -0.815817 accepted 1  lowest_f -0.890908\n",
      "basinhopping step 53: f -0.823966 trial_f -0.823966 accepted 1  lowest_f -0.890908\n",
      "basinhopping step 54: f -0.826974 trial_f -0.826974 accepted 1  lowest_f -0.890908\n",
      "basinhopping step 55: f -0.828822 trial_f -0.828822 accepted 1  lowest_f -0.890908\n",
      "basinhopping step 56: f -0.832867 trial_f -0.832867 accepted 1  lowest_f -0.890908\n",
      "basinhopping step 57: f -0.829623 trial_f -0.829623 accepted 1  lowest_f -0.890908\n",
      "basinhopping step 58: f -0.835808 trial_f -0.835808 accepted 1  lowest_f -0.890908\n",
      "basinhopping step 59: f -0.82021 trial_f -0.82021 accepted 1  lowest_f -0.890908\n",
      "basinhopping step 60: f -0.819383 trial_f -0.819383 accepted 1  lowest_f -0.890908\n",
      "basinhopping step 61: f -0.816906 trial_f -0.816906 accepted 1  lowest_f -0.890908\n",
      "basinhopping step 62: f -0.817453 trial_f -0.817453 accepted 1  lowest_f -0.890908\n",
      "basinhopping step 63: f -0.820574 trial_f -0.820574 accepted 1  lowest_f -0.890908\n",
      "basinhopping step 64: f -0.803407 trial_f -0.803407 accepted 1  lowest_f -0.890908\n",
      "basinhopping step 65: f -0.794244 trial_f -0.794244 accepted 1  lowest_f -0.890908\n",
      "basinhopping step 66: f -0.787892 trial_f -0.787892 accepted 1  lowest_f -0.890908\n",
      "basinhopping step 67: f -0.780191 trial_f -0.780191 accepted 1  lowest_f -0.890908\n",
      "basinhopping step 68: f -0.78506 trial_f -0.78506 accepted 1  lowest_f -0.890908\n",
      "basinhopping step 69: f -0.77711 trial_f -0.77711 accepted 1  lowest_f -0.890908\n",
      "basinhopping step 70: f -0.789376 trial_f -0.789376 accepted 1  lowest_f -0.890908\n",
      "basinhopping step 71: f -0.778501 trial_f -0.778501 accepted 1  lowest_f -0.890908\n",
      "basinhopping step 72: f -0.772692 trial_f -0.772692 accepted 1  lowest_f -0.890908\n",
      "basinhopping step 73: f -0.770985 trial_f -0.770985 accepted 1  lowest_f -0.890908\n",
      "basinhopping step 74: f -0.780014 trial_f -0.780014 accepted 1  lowest_f -0.890908\n",
      "basinhopping step 75: f -0.795804 trial_f -0.795804 accepted 1  lowest_f -0.890908\n",
      "basinhopping step 76: f -0.792062 trial_f -0.792062 accepted 1  lowest_f -0.890908\n",
      "basinhopping step 77: f -0.792342 trial_f -0.792342 accepted 1  lowest_f -0.890908\n",
      "basinhopping step 78: f -0.795684 trial_f -0.795684 accepted 1  lowest_f -0.890908\n",
      "basinhopping step 79: f -0.782243 trial_f -0.782243 accepted 1  lowest_f -0.890908\n",
      "basinhopping step 80: f -0.791661 trial_f -0.791661 accepted 1  lowest_f -0.890908\n",
      "basinhopping step 81: f -0.779812 trial_f -0.779812 accepted 1  lowest_f -0.890908\n",
      "basinhopping step 82: f -0.807924 trial_f -0.807924 accepted 1  lowest_f -0.890908\n",
      "basinhopping step 83: f -0.792206 trial_f -0.792206 accepted 1  lowest_f -0.890908\n",
      "basinhopping step 84: f -0.809462 trial_f -0.809462 accepted 1  lowest_f -0.890908\n",
      "basinhopping step 85: f -0.821267 trial_f -0.821267 accepted 1  lowest_f -0.890908\n",
      "basinhopping step 86: f -0.823562 trial_f -0.823562 accepted 1  lowest_f -0.890908\n",
      "basinhopping step 87: f -0.832939 trial_f -0.832939 accepted 1  lowest_f -0.890908\n",
      "basinhopping step 88: f -0.846268 trial_f -0.846268 accepted 1  lowest_f -0.890908\n",
      "basinhopping step 89: f -0.842166 trial_f -0.842166 accepted 1  lowest_f -0.890908\n",
      "basinhopping step 90: f -0.832032 trial_f -0.832032 accepted 1  lowest_f -0.890908\n",
      "basinhopping step 91: f -0.827672 trial_f -0.827672 accepted 1  lowest_f -0.890908\n",
      "basinhopping step 92: f -0.812191 trial_f -0.812191 accepted 1  lowest_f -0.890908\n",
      "basinhopping step 93: f -0.821647 trial_f -0.821647 accepted 1  lowest_f -0.890908\n",
      "basinhopping step 94: f -0.835865 trial_f -0.835865 accepted 1  lowest_f -0.890908\n",
      "basinhopping step 95: f -0.849279 trial_f -0.849279 accepted 1  lowest_f -0.890908\n",
      "basinhopping step 96: f -0.837877 trial_f -0.837877 accepted 1  lowest_f -0.890908\n"
     ]
    },
    {
     "name": "stdout",
     "output_type": "stream",
     "text": [
      "basinhopping step 97: f -0.85891 trial_f -0.85891 accepted 1  lowest_f -0.890908\n",
      "basinhopping step 98: f -0.84364 trial_f -0.84364 accepted 1  lowest_f -0.890908\n",
      "basinhopping step 99: f -0.852778 trial_f -0.852778 accepted 1  lowest_f -0.890908\n",
      "adaptive stepsize: acceptance rate 0.980000 target 0.500000 new stepsize 0.617284 old stepsize 0.555556\n",
      "basinhopping step 100: f -0.859661 trial_f -0.859661 accepted 1  lowest_f -0.890908\n",
      "CPU times: user 1h 7min 23s, sys: 24.2 s, total: 1h 7min 47s\n",
      "Wall time: 1h 7min 40s\n"
     ]
    },
    {
     "data": {
      "text/plain": [
       "                        fun: -0.890908193538182\n",
       " lowest_optimization_result:       fun: -0.890908193538182\n",
       " hess_inv: array([[1, 0],\n",
       "       [0, 1]])\n",
       "      jac: array([0., 0.])\n",
       "  message: 'Optimization terminated successfully.'\n",
       "     nfev: 3\n",
       "      nit: 0\n",
       "     njev: 1\n",
       "   status: 0\n",
       "  success: True\n",
       "        x: array([1.78924915, 1.06722576])\n",
       "                    message: ['requested number of basinhopping iterations completed successfully']\n",
       "      minimization_failures: 0\n",
       "                       nfev: 303\n",
       "                        nit: 100\n",
       "                       njev: 101\n",
       "                          x: array([1.78924915, 1.06722576])"
      ]
     },
     "execution_count": 16,
     "metadata": {},
     "output_type": "execute_result"
    }
   ],
   "source": [
    "%%time\n",
    "\n",
    "res = soptimize.basinhopping(\n",
    "    get_negative_accuracy_from_model,\n",
    "    DEFAULT_FCD_PARAMS,\n",
    "    disp=True,\n",
    "    seed=1234,\n",
    ")\n",
    "OPTIMISED_FCD_PARAMS = res.x\n",
    "res"
   ]
  },
  {
   "cell_type": "markdown",
   "metadata": {},
   "source": [
    "# Comparing the models performance"
   ]
  },
  {
   "cell_type": "code",
   "execution_count": 17,
   "metadata": {
    "scrolled": false
   },
   "outputs": [],
   "source": [
    "def _part_models_stats_gen(part, average_floor_duration):\n",
    "    utterances_df = pd.read_csv(FEATURES_DIR / 'utterances' / f'{part}.csv')\n",
    "    floor = utterances_to_floor(utterances_df)\n",
    "    rms = np.load(FEATURES_DIR / 'FCD' / f'{part}.npy')\n",
    "\n",
    "    models = {\n",
    "        'fcd': np.load(PREDICTIONS_DIR / 'FCD' / f'{part}.npy'),\n",
    "        'optimised_fcd': list(predict_fcd.gen_from_rms(rms, *OPTIMISED_FCD_PARAMS)),\n",
    "        'lstm': np.load(PREDICTIONS_DIR / 'LSTM' / f'full-{part}.npy'),\n",
    "        'partial_lstm': np.load(PREDICTIONS_DIR / 'LSTM' / f'partial-{part}.npy'),\n",
    "        'vad': np.load(PREDICTIONS_DIR / 'VAD' / f'{part}.npy'),\n",
    "        'random': calculate_random_model(\n",
    "            average_floor_duration,\n",
    "            part_duration=floor.index[-1],\n",
    "        ),\n",
    "    }\n",
    "\n",
    "    models_df = pd.concat(\n",
    "        [array_to_series(x, name=n, sample_rate=SAMPLE_RATE[n]) for n, x in models.items()],\n",
    "        axis=1,\n",
    "    )\n",
    "\n",
    "    measurement_functions_and_args = {\n",
    "        backchannels: utterances_df,\n",
    "        **{f: floor for f in [accuracy, stability, lag]},\n",
    "    }\n",
    "\n",
    "    for model in models:\n",
    "        for f, arg in measurement_functions_and_args.items():\n",
    "            for value in f(models_df[model], arg):\n",
    "                yield {\n",
    "                    'part': part,\n",
    "                    'model': model,\n",
    "                    'measurement': f.__name__,\n",
    "                    'value': value,\n",
    "                }\n",
    "\n",
    "\n",
    "def models_stats_gen(average_floor_duration):\n",
    "    '''\n",
    "    Calculate the performance measure for each model accross the\n",
    "    test-set.\n",
    "    '''\n",
    "    for part in utils.path.session_parts_gen(train_set=False, test_set=True):\n",
    "        yield from _part_models_stats_gen(part, average_floor_duration)"
   ]
  },
  {
   "cell_type": "code",
   "execution_count": 18,
   "metadata": {
    "scrolled": false
   },
   "outputs": [],
   "source": [
    "models_stats_df = pd.DataFrame(models_stats_gen(average_floor_duration))\n",
    "models_stats_df['model'] = pd.Categorical(\n",
    "    models_stats_df['model'],\n",
    "    categories=MODELS,\n",
    "    ordered=True,\n",
    ")\n",
    "for c in ['part', 'measurement']:\n",
    "    models_stats_df[c] = models_stats_df[c].astype('category')"
   ]
  },
  {
   "cell_type": "code",
   "execution_count": 19,
   "metadata": {
    "scrolled": false
   },
   "outputs": [
    {
     "data": {
      "text/html": [
       "<div>\n",
       "<style scoped>\n",
       "    .dataframe tbody tr th:only-of-type {\n",
       "        vertical-align: middle;\n",
       "    }\n",
       "\n",
       "    .dataframe tbody tr th {\n",
       "        vertical-align: top;\n",
       "    }\n",
       "\n",
       "    .dataframe thead th {\n",
       "        text-align: right;\n",
       "    }\n",
       "</style>\n",
       "<table border=\"1\" class=\"dataframe\">\n",
       "  <thead>\n",
       "    <tr style=\"text-align: right;\">\n",
       "      <th></th>\n",
       "      <th></th>\n",
       "      <th>mean</th>\n",
       "      <th>std</th>\n",
       "    </tr>\n",
       "    <tr>\n",
       "      <th>model</th>\n",
       "      <th>measurement</th>\n",
       "      <th></th>\n",
       "      <th></th>\n",
       "    </tr>\n",
       "  </thead>\n",
       "  <tbody>\n",
       "    <tr>\n",
       "      <th rowspan=\"4\" valign=\"top\">fcd</th>\n",
       "      <th>accuracy</th>\n",
       "      <td>0.856633</td>\n",
       "      <td>0.028406</td>\n",
       "    </tr>\n",
       "    <tr>\n",
       "      <th>backchannels</th>\n",
       "      <td>0.871155</td>\n",
       "      <td>0.135398</td>\n",
       "    </tr>\n",
       "    <tr>\n",
       "      <th>lag</th>\n",
       "      <td>0.421749</td>\n",
       "      <td>0.032709</td>\n",
       "    </tr>\n",
       "    <tr>\n",
       "      <th>stability</th>\n",
       "      <td>0.908155</td>\n",
       "      <td>0.206021</td>\n",
       "    </tr>\n",
       "    <tr>\n",
       "      <th rowspan=\"4\" valign=\"top\">optimised_fcd</th>\n",
       "      <th>accuracy</th>\n",
       "      <td>0.873504</td>\n",
       "      <td>0.023821</td>\n",
       "    </tr>\n",
       "    <tr>\n",
       "      <th>backchannels</th>\n",
       "      <td>0.721192</td>\n",
       "      <td>0.197439</td>\n",
       "    </tr>\n",
       "    <tr>\n",
       "      <th>lag</th>\n",
       "      <td>0.105196</td>\n",
       "      <td>0.031598</td>\n",
       "    </tr>\n",
       "    <tr>\n",
       "      <th>stability</th>\n",
       "      <td>0.470701</td>\n",
       "      <td>0.128298</td>\n",
       "    </tr>\n",
       "    <tr>\n",
       "      <th rowspan=\"4\" valign=\"top\">lstm</th>\n",
       "      <th>accuracy</th>\n",
       "      <td>0.888298</td>\n",
       "      <td>0.035383</td>\n",
       "    </tr>\n",
       "    <tr>\n",
       "      <th>backchannels</th>\n",
       "      <td>0.816202</td>\n",
       "      <td>0.090941</td>\n",
       "    </tr>\n",
       "    <tr>\n",
       "      <th>lag</th>\n",
       "      <td>0.163419</td>\n",
       "      <td>0.089304</td>\n",
       "    </tr>\n",
       "    <tr>\n",
       "      <th>stability</th>\n",
       "      <td>0.290748</td>\n",
       "      <td>0.081568</td>\n",
       "    </tr>\n",
       "    <tr>\n",
       "      <th rowspan=\"4\" valign=\"top\">partial_lstm</th>\n",
       "      <th>accuracy</th>\n",
       "      <td>0.870723</td>\n",
       "      <td>0.032737</td>\n",
       "    </tr>\n",
       "    <tr>\n",
       "      <th>backchannels</th>\n",
       "      <td>0.769757</td>\n",
       "      <td>0.115711</td>\n",
       "    </tr>\n",
       "    <tr>\n",
       "      <th>lag</th>\n",
       "      <td>0.169148</td>\n",
       "      <td>0.120208</td>\n",
       "    </tr>\n",
       "    <tr>\n",
       "      <th>stability</th>\n",
       "      <td>0.242624</td>\n",
       "      <td>0.057588</td>\n",
       "    </tr>\n",
       "    <tr>\n",
       "      <th rowspan=\"4\" valign=\"top\">vad</th>\n",
       "      <th>accuracy</th>\n",
       "      <td>0.747212</td>\n",
       "      <td>0.081713</td>\n",
       "    </tr>\n",
       "    <tr>\n",
       "      <th>backchannels</th>\n",
       "      <td>0.476896</td>\n",
       "      <td>0.219540</td>\n",
       "    </tr>\n",
       "    <tr>\n",
       "      <th>lag</th>\n",
       "      <td>0.487433</td>\n",
       "      <td>0.135832</td>\n",
       "    </tr>\n",
       "    <tr>\n",
       "      <th>stability</th>\n",
       "      <td>0.365151</td>\n",
       "      <td>0.071186</td>\n",
       "    </tr>\n",
       "    <tr>\n",
       "      <th rowspan=\"4\" valign=\"top\">random</th>\n",
       "      <th>accuracy</th>\n",
       "      <td>0.483042</td>\n",
       "      <td>0.082196</td>\n",
       "    </tr>\n",
       "    <tr>\n",
       "      <th>backchannels</th>\n",
       "      <td>0.509509</td>\n",
       "      <td>0.179864</td>\n",
       "    </tr>\n",
       "    <tr>\n",
       "      <th>lag</th>\n",
       "      <td>1.757282</td>\n",
       "      <td>0.403382</td>\n",
       "    </tr>\n",
       "    <tr>\n",
       "      <th>stability</th>\n",
       "      <td>0.961022</td>\n",
       "      <td>0.247827</td>\n",
       "    </tr>\n",
       "  </tbody>\n",
       "</table>\n",
       "</div>"
      ],
      "text/plain": [
       "                                mean       std\n",
       "model         measurement                     \n",
       "fcd           accuracy      0.856633  0.028406\n",
       "              backchannels  0.871155  0.135398\n",
       "              lag           0.421749  0.032709\n",
       "              stability     0.908155  0.206021\n",
       "optimised_fcd accuracy      0.873504  0.023821\n",
       "              backchannels  0.721192  0.197439\n",
       "              lag           0.105196  0.031598\n",
       "              stability     0.470701  0.128298\n",
       "lstm          accuracy      0.888298  0.035383\n",
       "              backchannels  0.816202  0.090941\n",
       "              lag           0.163419  0.089304\n",
       "              stability     0.290748  0.081568\n",
       "partial_lstm  accuracy      0.870723  0.032737\n",
       "              backchannels  0.769757  0.115711\n",
       "              lag           0.169148  0.120208\n",
       "              stability     0.242624  0.057588\n",
       "vad           accuracy      0.747212  0.081713\n",
       "              backchannels  0.476896  0.219540\n",
       "              lag           0.487433  0.135832\n",
       "              stability     0.365151  0.071186\n",
       "random        accuracy      0.483042  0.082196\n",
       "              backchannels  0.509509  0.179864\n",
       "              lag           1.757282  0.403382\n",
       "              stability     0.961022  0.247827"
      ]
     },
     "execution_count": 19,
     "metadata": {},
     "output_type": "execute_result"
    }
   ],
   "source": [
    "(\n",
    "    models_stats_df\n",
    "    .groupby(['model', 'measurement', 'part'])\n",
    "    ['value']\n",
    "    .mean()\n",
    "    .groupby(['model', 'measurement'])\n",
    "    .agg(['mean', 'std'])\n",
    ")"
   ]
  },
  {
   "cell_type": "markdown",
   "metadata": {},
   "source": [
    "# Bayesian analysis of differences between the models"
   ]
  },
  {
   "cell_type": "markdown",
   "metadata": {},
   "source": [
    "Utilities"
   ]
  },
  {
   "cell_type": "code",
   "execution_count": 20,
   "metadata": {},
   "outputs": [],
   "source": [
    "def gamma_template(mode, sd):\n",
    "    '''\n",
    "    Return a string template with shape and rate from mode and sd.\n",
    "    '''\n",
    "    rate = f'({mode} + sqrt({mode} ^ 2 + 4 * {sd} ^ 2)) / (2 * {sd} ^ 2)'\n",
    "    shape = f'1 + {mode} * {rate}'\n",
    "    return f'{shape}, {rate}'\n",
    "\n",
    "\n",
    "def beta_template(mode, k):\n",
    "    '''\n",
    "    Return a string template with a and b from mode and concentration.\n",
    "    '''\n",
    "    a = f'{mode} * ({k} - 2) + 1'\n",
    "    b = f'(1 - {mode}) * ({k} - 2) + 1'\n",
    "    return f'{a}, {b}'\n",
    "\n",
    "\n",
    "def run_model(code, data):\n",
    "    model = pyjags.Model(code=code, data=data, chains=CHAINS)\n",
    "    return model.sample(ITERATIONS)\n",
    "\n",
    "\n",
    "def mode_comparison(trace, models):\n",
    "    utils.mcmc_plot.param_comparison(\n",
    "        trace,\n",
    "        'mode',\n",
    "        comparison=[MODELS.index(m) for m in models],\n",
    "        names=models,\n",
    "    )\n",
    "    \n",
    "\n",
    "def compare_two(models, traces, histplot_kwargs=None):\n",
    "    if histplot_kwargs is None:\n",
    "        histplot_kwargs = {}\n",
    "\n",
    "    _, axes = plt.subplots(ncols=len(traces), figsize=(8, 2))\n",
    "    for ax, (measurement, trace) in zip(axes, traces.items()):\n",
    "        m1, m2 = [MODELS.index(m) for m in models]\n",
    "        ax.set(title=measurement)\n",
    "        ax.axvline(0, linestyle='--', c='grey')\n",
    "        utils.mcmc_plot.dist(\n",
    "            trace['mode'][m1].reshape(-1) - trace['mode'][m2].reshape(-1),\n",
    "            histplot_kwargs=histplot_kwargs,\n",
    "            ax=ax,\n",
    "        )"
   ]
  },
  {
   "cell_type": "code",
   "execution_count": 21,
   "metadata": {},
   "outputs": [],
   "source": [
    "group_by_measurement = models_stats_df.groupby('measurement')"
   ]
  },
  {
   "cell_type": "markdown",
   "metadata": {},
   "source": [
    "## Accuracy"
   ]
  },
  {
   "cell_type": "code",
   "execution_count": 22,
   "metadata": {},
   "outputs": [],
   "source": [
    "hierarchical_beta_code = f\"\"\"\n",
    "model {{\n",
    "    for (m in 1:n_models) {{\n",
    "        for (p in 1:n_parts) {{\n",
    "            correct[m, p] ~ dbin(part_mode[m, p], attempts[m, p])\n",
    "            part_mode[m, p] ~ dbeta({beta_template('mode[m]', 'kappa[m]')})\n",
    "        }}\n",
    "        \n",
    "        mode[m] ~ dbeta({beta_template('MODE', 'KAPPA')})\n",
    "        kappa[m] = kappa_minus_two[m] + 2\n",
    "        kappa_minus_two[m] ~ dgamma(2.618, 0.0809)  # Vague mode 20, sd 20\n",
    "    }}\n",
    "    \n",
    "    MODE = 0.5\n",
    "    KAPPA = 2\n",
    "}}\n",
    "\"\"\""
   ]
  },
  {
   "cell_type": "code",
   "execution_count": 23,
   "metadata": {},
   "outputs": [],
   "source": [
    "_df = group_by_measurement.get_group('accuracy')\n",
    "accuracy_data = {\n",
    "    'n_parts': len(_df['part'].unique()),\n",
    "    'n_models': len(_df['model'].unique()),\n",
    "    'correct': _df.pivot_table(index='model', columns='part', values='value', aggfunc='sum'),\n",
    "    'attempts': _df.pivot_table(index='model', columns='part', values='value', aggfunc='count'),\n",
    "}"
   ]
  },
  {
   "cell_type": "code",
   "execution_count": 24,
   "metadata": {
    "scrolled": true
   },
   "outputs": [
    {
     "name": "stdout",
     "output_type": "stream",
     "text": [
      "adapting: iterations 4000 of 4000, elapsed 0:00:01, remaining 0:00:00\n",
      "sampling: iterations 54444 of 80000, elapsed 0:00:08, remaining 0:00:04\n",
      "sampling: iterations 80000 of 80000, elapsed 0:00:12, remaining 0:00:00\n"
     ]
    }
   ],
   "source": [
    "accuracy_trace = run_model(code=hierarchical_beta_code, data=accuracy_data)"
   ]
  },
  {
   "cell_type": "code",
   "execution_count": 25,
   "metadata": {},
   "outputs": [
    {
     "data": {
      "image/png": "[encoded data removed]",
      "text/plain": [
       "<Figure size 576x576 with 9 Axes>"
      ]
     },
     "metadata": {},
     "output_type": "display_data"
    }
   ],
   "source": [
    "mode_comparison(accuracy_trace, ['fcd', 'lstm', 'random'])"
   ]
  },
  {
   "cell_type": "markdown",
   "metadata": {},
   "source": [
    "## Backchannels categorisation"
   ]
  },
  {
   "cell_type": "code",
   "execution_count": 26,
   "metadata": {},
   "outputs": [],
   "source": [
    "_df = group_by_measurement.get_group('backchannels')\n",
    "bc_data = {\n",
    "    'n_parts': len(_df['part'].unique()),\n",
    "    'n_models': len(_df['model'].unique()),\n",
    "    'correct': _df.pivot_table(index='model', columns='part', values='value', aggfunc='sum'),\n",
    "    'attempts': _df.pivot_table(index='model', columns='part', values='value', aggfunc='count'),\n",
    "}"
   ]
  },
  {
   "cell_type": "code",
   "execution_count": 27,
   "metadata": {},
   "outputs": [
    {
     "name": "stdout",
     "output_type": "stream",
     "text": [
      "adapting: iterations 4000 of 4000, elapsed 0:00:01, remaining 0:00:00\n",
      "sampling: iterations 60528 of 80000, elapsed 0:00:10, remaining 0:00:03\n",
      "sampling: iterations 80000 of 80000, elapsed 0:00:13, remaining 0:00:00\n"
     ]
    }
   ],
   "source": [
    "bc_trace = run_model(code=hierarchical_beta_code, data=bc_data)"
   ]
  },
  {
   "cell_type": "code",
   "execution_count": 28,
   "metadata": {
    "scrolled": false
   },
   "outputs": [
    {
     "data": {
      "image/png": "[encoded data removed]",
      "text/plain": [
       "<Figure size 576x576 with 9 Axes>"
      ]
     },
     "metadata": {},
     "output_type": "display_data"
    }
   ],
   "source": [
    "mode_comparison(bc_trace, ['fcd', 'lstm', 'random'])"
   ]
  },
  {
   "cell_type": "markdown",
   "metadata": {},
   "source": [
    "## Stability"
   ]
  },
  {
   "cell_type": "code",
   "execution_count": 29,
   "metadata": {},
   "outputs": [],
   "source": [
    "stability_code = f\"\"\"\n",
    "model {{\n",
    "    for (m in 1:n_models) {{\n",
    "        for (p in 1:n_parts) {{\n",
    "            stability[m, p] ~ dgamma({gamma_template('mode[m]', 'sd[m]')})\n",
    "        }}\n",
    "        \n",
    "        mode[m] ~ dgamma({gamma_template('MODE', 'SD')})\n",
    "        sd[m] ~ dexp(1)\n",
    "    }}\n",
    "    \n",
    "    MODE = 1\n",
    "    SD = 1\n",
    "}}\n",
    "\"\"\""
   ]
  },
  {
   "cell_type": "code",
   "execution_count": 30,
   "metadata": {},
   "outputs": [],
   "source": [
    "_df = group_by_measurement.get_group('stability')\n",
    "stability_data = {\n",
    "    'n_parts': len(_df['part'].unique()),\n",
    "    'n_models': len(_df['model'].unique()),\n",
    "    'stability': _df.pivot(index='model', columns='part', values='value'),\n",
    "}"
   ]
  },
  {
   "cell_type": "code",
   "execution_count": 31,
   "metadata": {},
   "outputs": [
    {
     "name": "stdout",
     "output_type": "stream",
     "text": [
      "adapting: iterations 4000 of 4000, elapsed 0:00:00, remaining 0:00:00\n",
      "sampling: iterations 80000 of 80000, elapsed 0:00:06, remaining 0:00:00\n",
      "sampling: iterations 80000 of 80000, elapsed 0:00:06, remaining 0:00:00\n"
     ]
    }
   ],
   "source": [
    "stability_trace = run_model(code=stability_code, data=stability_data)"
   ]
  },
  {
   "cell_type": "code",
   "execution_count": 32,
   "metadata": {},
   "outputs": [
    {
     "data": {
      "image/png": "[encoded data removed]",
      "text/plain": [
       "<Figure size 576x576 with 9 Axes>"
      ]
     },
     "metadata": {},
     "output_type": "display_data"
    }
   ],
   "source": [
    "mode_comparison(stability_trace, ['fcd', 'lstm', 'random'])"
   ]
  },
  {
   "cell_type": "markdown",
   "metadata": {},
   "source": [
    "## Lag"
   ]
  },
  {
   "cell_type": "code",
   "execution_count": 33,
   "metadata": {},
   "outputs": [],
   "source": [
    "lag_code = f\"\"\"\n",
    "model {{\n",
    "    for (i in 1:n_lags) {{\n",
    "        lag[i] ~ dgamma({gamma_template('part_mode[models[i], part[i]]', 'part_sd[models[i], part[i]]')})\n",
    "    }}\n",
    "    for (i in 1:n_models) {{\n",
    "        for (j in 1:n_parts) {{\n",
    "            part_mode[i, j] ~ dgamma({gamma_template('mode[i]', 'sd[i]')})\n",
    "            part_sd[i, j] ~ dexp(1)\n",
    "        }}\n",
    "        \n",
    "        mode[i] ~ dgamma({gamma_template('MODE', 'SD')})\n",
    "        sd[i] ~ dexp(1)\n",
    "    }}\n",
    "    \n",
    "    MODE = 0.5\n",
    "    SD = 1\n",
    "}}\n",
    "\"\"\""
   ]
  },
  {
   "cell_type": "code",
   "execution_count": 34,
   "metadata": {},
   "outputs": [],
   "source": [
    "_df = group_by_measurement.get_group('stability')\n",
    "lag_data = {\n",
    "    'n_parts': len(_df['part'].unique()),\n",
    "    'n_models': len(_df['model'].unique()),\n",
    "    'n_lags': len(_df),\n",
    "    'lag': _df['value'],\n",
    "    'models': _df['model'].cat.codes + 1,\n",
    "    'part': _df['part'].cat.codes + 1,\n",
    "}"
   ]
  },
  {
   "cell_type": "code",
   "execution_count": 35,
   "metadata": {
    "scrolled": true
   },
   "outputs": [
    {
     "name": "stdout",
     "output_type": "stream",
     "text": [
      "adapting: iterations 4000 of 4000, elapsed 0:00:01, remaining 0:00:00\n",
      "sampling: iterations 35820 of 80000, elapsed 0:00:09, remaining 0:00:11\n",
      "sampling: iterations 55032 of 80000, elapsed 0:00:14, remaining 0:00:07\n",
      "sampling: iterations 80000 of 80000, elapsed 0:00:21, remaining 0:00:00\n",
      "sampling: iterations 80000 of 80000, elapsed 0:00:21, remaining 0:00:00\n"
     ]
    }
   ],
   "source": [
    "lag_trace = run_model(code=lag_code, data=lag_data)"
   ]
  },
  {
   "cell_type": "code",
   "execution_count": 36,
   "metadata": {},
   "outputs": [
    {
     "data": {
      "image/png": "[encoded data removed]",
      "text/plain": [
       "<Figure size 576x576 with 9 Axes>"
      ]
     },
     "metadata": {},
     "output_type": "display_data"
    }
   ],
   "source": [
    "mode_comparison(lag_trace, ['fcd', 'lstm', 'random'])"
   ]
  },
  {
   "cell_type": "markdown",
   "metadata": {},
   "source": [
    "## FCD with default params vs. optimised FCD"
   ]
  },
  {
   "cell_type": "code",
   "execution_count": 37,
   "metadata": {},
   "outputs": [],
   "source": [
    "traces = {\n",
    "    'accuracy': accuracy_trace,\n",
    "    'backchannels': bc_trace,\n",
    "    'stability': stability_trace,\n",
    "    'lag': lag_trace,\n",
    "}"
   ]
  },
  {
   "cell_type": "code",
   "execution_count": 38,
   "metadata": {
    "scrolled": true
   },
   "outputs": [
    {
     "data": {
      "image/png": "[encoded data removed]",
      "text/plain": [
       "<Figure size 576x144 with 4 Axes>"
      ]
     },
     "metadata": {},
     "output_type": "display_data"
    }
   ],
   "source": [
    "compare_two(['fcd', 'optimised_fcd'], traces, histplot_kwargs={'binrange': (-1, 1)})"
   ]
  },
  {
   "cell_type": "markdown",
   "metadata": {},
   "source": [
    "## LSTM vs. partial-LSTM"
   ]
  },
  {
   "cell_type": "code",
   "execution_count": 39,
   "metadata": {
    "scrolled": false
   },
   "outputs": [
    {
     "data": {
      "image/png": "[encoded data removed]",
      "text/plain": [
       "<Figure size 576x144 with 4 Axes>"
      ]
     },
     "metadata": {},
     "output_type": "display_data"
    }
   ],
   "source": [
    "compare_two(['lstm', 'partial_lstm'], traces, histplot_kwargs={'binrange': (-1, 1)})"
   ]
  }
 ],
 "metadata": {
  "kernelspec": {
   "display_name": "Python 3",
   "language": "python",
   "name": "python3"
  },
  "language_info": {
   "codemirror_mode": {
    "name": "ipython",
    "version": 3
   },
   "file_extension": ".py",
   "mimetype": "text/x-python",
   "name": "python",
   "nbconvert_exporter": "python",
   "pygments_lexer": "ipython3",
   "version": "3.8.6"
  }
 },
 "nbformat": 4,
 "nbformat_minor": 2
}
